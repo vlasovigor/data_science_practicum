{
 "cells": [
  {
   "cell_type": "markdown",
   "metadata": {
    "toc": true
   },
   "source": [
    "<br>\n",
    "<div class=\"toc\">\n",
    "    <ul>\n",
    "        <li><a href=\"#Preparation\">Preparation</a></li>\n",
    "        <li><a href=\"#Training\">Training</a>\n",
    "            <ul>\n",
    "                <li><a href=\"#Logistic\">Logistic Regression</a></li>\n",
    "                <li><a href=\"#Random\">Random Forest</a></li>\n",
    "                <li><a href=\"#XGBClassifier\">XGBClassifier</a></li>\n",
    "                <li><a href=\"#LGBMClassifier\">LGBMClassifier</a></li>\n",
    "                <li><a href=\"#DummyClassifier\">DummyClassifier</a></li>\n",
    "            </ul>\n",
    "        </li>\n",
    "        <li><a href=\"#Conclusions\">Conclusions</a></li>\n",
    "    </ul>\n",
    "</div>"
   ]
  },
  {
   "cell_type": "markdown",
   "metadata": {},
   "source": [
    "# Detection toxic comments for an online store"
   ]
  },
  {
   "cell_type": "markdown",
   "metadata": {},
   "source": [
    "The online store launches a new service. Now users can edit and supplement product descriptions, as in wiki communities. That is, clients offer their edits and comment on the changes of others. The store needs a tool that will search for toxic comments and send them for moderation.\n",
    "\n",
    "\n",
    "The data is in the file `toxic_comments.csv`.\n",
    "\n",
    "| column | description |\n",
    "| --- | --- |\n",
    "| text | comment text |\n",
    "| toxic | target attribute |"
   ]
  },
  {
   "cell_type": "markdown",
   "metadata": {},
   "source": [
    "## Preparation"
   ]
  },
  {
   "cell_type": "code",
   "execution_count": 1,
   "metadata": {},
   "outputs": [
    {
     "name": "stderr",
     "output_type": "stream",
     "text": [
      "[nltk_data] Downloading package stopwords to /Users/igor/nltk_data...\n",
      "[nltk_data]   Package stopwords is already up-to-date!\n",
      "[nltk_data] Downloading package averaged_perceptron_tagger to\n",
      "[nltk_data]     /Users/igor/nltk_data...\n",
      "[nltk_data]   Package averaged_perceptron_tagger is already up-to-\n",
      "[nltk_data]       date!\n",
      "[nltk_data] Downloading package wordnet to /Users/igor/nltk_data...\n",
      "[nltk_data]   Package wordnet is already up-to-date!\n",
      "[nltk_data] Downloading package punkt to /Users/igor/nltk_data...\n",
      "[nltk_data]   Package punkt is already up-to-date!\n",
      "[nltk_data] Downloading package omw-1.4 to /Users/igor/nltk_data...\n",
      "[nltk_data]   Package omw-1.4 is already up-to-date!\n"
     ]
    }
   ],
   "source": [
    "import numpy as np\n",
    "import pandas as pd\n",
    "from scipy import stats as st\n",
    "import time\n",
    "import warnings\n",
    "import datetime\n",
    "import os \n",
    "from pathlib import Path\n",
    "import urllib\n",
    "import re\n",
    "import nltk\n",
    "from nltk.corpus import wordnet\n",
    "from nltk.stem import WordNetLemmatizer\n",
    "from sklearn.feature_extraction.text import CountVectorizer, TfidfVectorizer\n",
    "nltk.download('stopwords')\n",
    "nltk.download('averaged_perceptron_tagger')\n",
    "nltk.download('wordnet')\n",
    "nltk.download('punkt')\n",
    "nltk.download('omw-1.4')\n",
    "from nltk.corpus import stopwords\n",
    "from sklearn.tree import DecisionTreeClassifier\n",
    "from sklearn.ensemble import RandomForestClassifier\n",
    "from sklearn.linear_model import LogisticRegression\n",
    "import xgboost as xgb\n",
    "import lightgbm as lgb\n",
    "from sklearn.model_selection import train_test_split, GridSearchCV, RandomizedSearchCV\n",
    "from sklearn.metrics import confusion_matrix, recall_score, precision_score, f1_score, roc_auc_score, precision_recall_curve, roc_curve\n",
    "from sklearn.utils import shuffle\n",
    "from sklearn.dummy import DummyClassifier\n",
    "import matplotlib as mpl\n",
    "import matplotlib.pyplot as plt\n",
    "import matplotlib.ticker as ticker\n",
    "import seaborn as sns"
   ]
  },
  {
   "cell_type": "code",
   "execution_count": 2,
   "metadata": {},
   "outputs": [],
   "source": [
    "data = pd.read_csv('../../../datasets/toxic_comments.csv')"
   ]
  },
  {
   "cell_type": "code",
   "execution_count": 3,
   "metadata": {},
   "outputs": [
    {
     "data": {
      "text/html": [
       "<div>\n",
       "<style scoped>\n",
       "    .dataframe tbody tr th:only-of-type {\n",
       "        vertical-align: middle;\n",
       "    }\n",
       "\n",
       "    .dataframe tbody tr th {\n",
       "        vertical-align: top;\n",
       "    }\n",
       "\n",
       "    .dataframe thead th {\n",
       "        text-align: right;\n",
       "    }\n",
       "</style>\n",
       "<table border=\"1\" class=\"dataframe\">\n",
       "  <thead>\n",
       "    <tr style=\"text-align: right;\">\n",
       "      <th></th>\n",
       "      <th>text</th>\n",
       "      <th>toxic</th>\n",
       "    </tr>\n",
       "  </thead>\n",
       "  <tbody>\n",
       "    <tr>\n",
       "      <th>0</th>\n",
       "      <td>Explanation\\nWhy the edits made under my usern...</td>\n",
       "      <td>0</td>\n",
       "    </tr>\n",
       "    <tr>\n",
       "      <th>1</th>\n",
       "      <td>D'aww! He matches this background colour I'm s...</td>\n",
       "      <td>0</td>\n",
       "    </tr>\n",
       "    <tr>\n",
       "      <th>2</th>\n",
       "      <td>Hey man, I'm really not trying to edit war. It...</td>\n",
       "      <td>0</td>\n",
       "    </tr>\n",
       "    <tr>\n",
       "      <th>3</th>\n",
       "      <td>\"\\nMore\\nI can't make any real suggestions on ...</td>\n",
       "      <td>0</td>\n",
       "    </tr>\n",
       "    <tr>\n",
       "      <th>4</th>\n",
       "      <td>You, sir, are my hero. Any chance you remember...</td>\n",
       "      <td>0</td>\n",
       "    </tr>\n",
       "  </tbody>\n",
       "</table>\n",
       "</div>"
      ],
      "text/plain": [
       "                                                text  toxic\n",
       "0  Explanation\\nWhy the edits made under my usern...      0\n",
       "1  D'aww! He matches this background colour I'm s...      0\n",
       "2  Hey man, I'm really not trying to edit war. It...      0\n",
       "3  \"\\nMore\\nI can't make any real suggestions on ...      0\n",
       "4  You, sir, are my hero. Any chance you remember...      0"
      ]
     },
     "execution_count": 3,
     "metadata": {},
     "output_type": "execute_result"
    }
   ],
   "source": [
    "data.head()"
   ]
  },
  {
   "cell_type": "code",
   "execution_count": 4,
   "metadata": {},
   "outputs": [
    {
     "name": "stdout",
     "output_type": "stream",
     "text": [
      "<class 'pandas.core.frame.DataFrame'>\n",
      "RangeIndex: 159571 entries, 0 to 159570\n",
      "Data columns (total 2 columns):\n",
      " #   Column  Non-Null Count   Dtype \n",
      "---  ------  --------------   ----- \n",
      " 0   text    159571 non-null  object\n",
      " 1   toxic   159571 non-null  int64 \n",
      "dtypes: int64(1), object(1)\n",
      "memory usage: 2.4+ MB\n"
     ]
    }
   ],
   "source": [
    "data.info()"
   ]
  },
  {
   "cell_type": "markdown",
   "metadata": {},
   "source": [
    "Let's look at the ratio of classes."
   ]
  },
  {
   "cell_type": "code",
   "execution_count": 5,
   "metadata": {},
   "outputs": [
    {
     "data": {
      "text/html": [
       "<div>\n",
       "<style scoped>\n",
       "    .dataframe tbody tr th:only-of-type {\n",
       "        vertical-align: middle;\n",
       "    }\n",
       "\n",
       "    .dataframe tbody tr th {\n",
       "        vertical-align: top;\n",
       "    }\n",
       "\n",
       "    .dataframe thead th {\n",
       "        text-align: right;\n",
       "    }\n",
       "</style>\n",
       "<table border=\"1\" class=\"dataframe\">\n",
       "  <thead>\n",
       "    <tr style=\"text-align: right;\">\n",
       "      <th></th>\n",
       "      <th>text</th>\n",
       "    </tr>\n",
       "    <tr>\n",
       "      <th>toxic</th>\n",
       "      <th></th>\n",
       "    </tr>\n",
       "  </thead>\n",
       "  <tbody>\n",
       "    <tr>\n",
       "      <th>0</th>\n",
       "      <td>143346</td>\n",
       "    </tr>\n",
       "    <tr>\n",
       "      <th>1</th>\n",
       "      <td>16225</td>\n",
       "    </tr>\n",
       "  </tbody>\n",
       "</table>\n",
       "</div>"
      ],
      "text/plain": [
       "         text\n",
       "toxic        \n",
       "0      143346\n",
       "1       16225"
      ]
     },
     "execution_count": 5,
     "metadata": {},
     "output_type": "execute_result"
    }
   ],
   "source": [
    "data.groupby('toxic').count()"
   ]
  },
  {
   "cell_type": "code",
   "execution_count": 6,
   "metadata": {},
   "outputs": [],
   "source": [
    "corpus = data['text'].values"
   ]
  },
  {
   "cell_type": "markdown",
   "metadata": {},
   "source": [
    "Let's clear the text from unnecessary characters."
   ]
  },
  {
   "cell_type": "code",
   "execution_count": 7,
   "metadata": {},
   "outputs": [],
   "source": [
    "def clear_text(text):\n",
    "    return \" \".join(re.sub(r'[^a-zA-Z]', ' ', text).split())"
   ]
  },
  {
   "cell_type": "code",
   "execution_count": 8,
   "metadata": {},
   "outputs": [
    {
     "data": {
      "text/plain": [
       "\"D'aww! He matches this background colour I'm seemingly stuck with. Thanks.  (talk) 21:51, January 11, 2016 (UTC)\""
      ]
     },
     "execution_count": 8,
     "metadata": {},
     "output_type": "execute_result"
    }
   ],
   "source": [
    "corpus[1]"
   ]
  },
  {
   "cell_type": "code",
   "execution_count": 9,
   "metadata": {},
   "outputs": [
    {
     "data": {
      "text/plain": [
       "'D aww He matches this background colour I m seemingly stuck with Thanks talk January UTC'"
      ]
     },
     "execution_count": 9,
     "metadata": {},
     "output_type": "execute_result"
    }
   ],
   "source": [
    "clear_text(corpus[1])"
   ]
  },
  {
   "cell_type": "markdown",
   "metadata": {},
   "source": [
    "----"
   ]
  },
  {
   "cell_type": "markdown",
   "metadata": {},
   "source": [
    "Lemmatizing comments."
   ]
  },
  {
   "cell_type": "code",
   "execution_count": 10,
   "metadata": {},
   "outputs": [],
   "source": [
    "lemmatizer = WordNetLemmatizer()"
   ]
  },
  {
   "cell_type": "code",
   "execution_count": 11,
   "metadata": {},
   "outputs": [],
   "source": [
    "def lemmatize(text):\n",
    "    word_list = nltk.word_tokenize(text)\n",
    "    lemmatized = [lemmatizer.lemmatize(word) for word in word_list]\n",
    "    return \" \".join(lemmatized)"
   ]
  },
  {
   "cell_type": "code",
   "execution_count": 12,
   "metadata": {},
   "outputs": [
    {
     "data": {
      "text/plain": [
       "\"Explanation\\nWhy the edits made under my username Hardcore Metallica Fan were reverted? They weren't vandalisms, just closure on some GAs after I voted at New York Dolls FAC. And please don't remove the template from the talk page since I'm retired now.89.205.38.27\""
      ]
     },
     "execution_count": 12,
     "metadata": {},
     "output_type": "execute_result"
    }
   ],
   "source": [
    "corpus[0]"
   ]
  },
  {
   "cell_type": "code",
   "execution_count": 13,
   "metadata": {},
   "outputs": [
    {
     "data": {
      "text/plain": [
       "'Explanation Why the edits made under my username Hardcore Metallica Fan were reverted They weren t vandalism just closure on some GAs after I voted at New York Dolls FAC And please don t remove the template from the talk page since I m retired now'"
      ]
     },
     "execution_count": 13,
     "metadata": {},
     "output_type": "execute_result"
    }
   ],
   "source": [
    "lemmatize(clear_text(corpus[0]))"
   ]
  },
  {
   "cell_type": "code",
   "execution_count": 14,
   "metadata": {},
   "outputs": [],
   "source": [
    "processed_corpus = []"
   ]
  },
  {
   "cell_type": "code",
   "execution_count": 15,
   "metadata": {},
   "outputs": [],
   "source": [
    "for comment in corpus: \n",
    "    processed_corpus.append(lemmatize(clear_text(comment)))"
   ]
  },
  {
   "cell_type": "code",
   "execution_count": 16,
   "metadata": {},
   "outputs": [],
   "source": [
    "cleared = pd.Series(processed_corpus)"
   ]
  },
  {
   "cell_type": "markdown",
   "metadata": {},
   "source": [
    "Divide the data into samples in the ratio 75/25"
   ]
  },
  {
   "cell_type": "code",
   "execution_count": 17,
   "metadata": {},
   "outputs": [],
   "source": [
    "features = cleared\n",
    "target = data['toxic']\n",
    "random_state_value = 42"
   ]
  },
  {
   "cell_type": "code",
   "execution_count": 18,
   "metadata": {},
   "outputs": [],
   "source": [
    "def sampleSize(original, train, test):\n",
    "    \"\"\"\n",
    "    Function for displaying the sizes of resulted samples\n",
    "    original - original data\n",
    "    train - training sample\n",
    "    test - test sample\n",
    "    \"\"\"\n",
    "    print(f'Size of the original data: {len(original)}')\n",
    "    print(f'Size of the training sample:  {len(train)}')\n",
    "    print(f'Size of the test sample: {len(test)}')"
   ]
  },
  {
   "cell_type": "code",
   "execution_count": 19,
   "metadata": {},
   "outputs": [],
   "source": [
    "def cross_val_splitting_data(target,features):\n",
    "    \"\"\"\n",
    "    Function for splitting data into training and test samples. It returns targets, and features of training and test samples\n",
    "    target\n",
    "    features\n",
    "    \"\"\"\n",
    "    features_train, features_test, target_train, target_test = train_test_split(features, target,random_state=random_state_value,test_size=0.25)\n",
    "    # checks sizes of samples\n",
    "    sampleSize(features,features_train,features_test)\n",
    "    return features_train,target_train, features_test, target_test"
   ]
  },
  {
   "cell_type": "code",
   "execution_count": 20,
   "metadata": {},
   "outputs": [
    {
     "name": "stdout",
     "output_type": "stream",
     "text": [
      "Size of the original data: 159571\n",
      "Size of the training sample:  119678\n",
      "Size of the test sample: 39893\n"
     ]
    }
   ],
   "source": [
    "features_train, target_train, features_test, target_test = cross_val_splitting_data(target,features)"
   ]
  },
  {
   "cell_type": "markdown",
   "metadata": {},
   "source": [
    "---"
   ]
  },
  {
   "cell_type": "markdown",
   "metadata": {},
   "source": [
    "To improve class balances, we will use the `upsampling`"
   ]
  },
  {
   "cell_type": "code",
   "execution_count": 21,
   "metadata": {},
   "outputs": [],
   "source": [
    "def upsample(features, target,repeat,sample_name):\n",
    "    features_zeros = features[target==0]\n",
    "    features_ones = features[target==1]\n",
    "    target_zeros = target[target==0]\n",
    "    target_ones = target[target==1]\n",
    "    features_upsampled = pd.concat([features_zeros] + [features_ones] * repeat)\n",
    "    target_upsampled = pd.concat([target_zeros] + [target_ones] * repeat)\n",
    "    features_upsampled, target_upsampled = shuffle(features_upsampled, target_upsampled, random_state=random_state_value)\n",
    "    print(f'Ration {sample_name}')\n",
    "    print(target_upsampled.value_counts())\n",
    "    return features_upsampled, target_upsampled"
   ]
  },
  {
   "cell_type": "code",
   "execution_count": 22,
   "metadata": {},
   "outputs": [
    {
     "name": "stdout",
     "output_type": "stream",
     "text": [
      "Ration Training sample\n",
      "0    107512\n",
      "1     97328\n",
      "Name: toxic, dtype: int64\n"
     ]
    }
   ],
   "source": [
    "features_train, target_train = upsample(features_train, target_train, 8, \"Training sample\")"
   ]
  },
  {
   "cell_type": "markdown",
   "metadata": {},
   "source": [
    "Let's remove frequently repeated words."
   ]
  },
  {
   "cell_type": "code",
   "execution_count": 23,
   "metadata": {},
   "outputs": [],
   "source": [
    "stopwords = stopwords.words('english')"
   ]
  },
  {
   "cell_type": "code",
   "execution_count": 24,
   "metadata": {},
   "outputs": [],
   "source": [
    "count_tf_idf = TfidfVectorizer(stop_words=stopwords)\n",
    "count_tf_idf.fit(features_train)\n",
    "features_train = count_tf_idf.transform(features_train)\n",
    "features_test = count_tf_idf.transform(features_test)"
   ]
  },
  {
   "cell_type": "markdown",
   "metadata": {},
   "source": [
    "---"
   ]
  },
  {
   "cell_type": "markdown",
   "metadata": {},
   "source": [
    "## Training"
   ]
  },
  {
   "cell_type": "code",
   "execution_count": 25,
   "metadata": {},
   "outputs": [],
   "source": [
    "ml_models_stats = dict()"
   ]
  },
  {
   "cell_type": "code",
   "execution_count": 26,
   "metadata": {},
   "outputs": [],
   "source": [
    "def drawErrorMatrix(error_matrix, model_name):\n",
    "    plt.title(f'Матрица ошибок модели: {model_name}')\n",
    "    sns.heatmap(error_matrix, annot=True,cmap='BuPu',cbar=False,fmt=\"d\")\n",
    "    plt.xlabel('Predictions')\n",
    "    plt.ylabel('Answers')\n",
    "    plt.show()"
   ]
  },
  {
   "cell_type": "code",
   "execution_count": 27,
   "metadata": {},
   "outputs": [],
   "source": [
    "def drawPR_curve(target,features,model):\n",
    "    probabilities = model.predict_proba(features)\n",
    "    precision,recall, thresholds = precision_recall_curve(target, probabilities[:,1])\n",
    "    plt.step(recall, precision, where='post')\n",
    "    plt.xlabel('Recall')\n",
    "    plt.ylabel('Precision')\n",
    "    plt.ylim([0.0, 1.05])\n",
    "    plt.xlim([0.0, 1.0])\n",
    "    plt.title('Curve Precision-Recall')\n",
    "    plt.show()"
   ]
  },
  {
   "cell_type": "code",
   "execution_count": 28,
   "metadata": {},
   "outputs": [],
   "source": [
    "def drawROC_curve(target,features,model):\n",
    "    probabilities = model.predict_proba(features)\n",
    "    fpr, tpr, thresholds = roc_curve(target, probabilities[:,1])\n",
    "    auc_roc = roc_auc_score(target, probabilities[:,1])\n",
    "    plt.plot(fpr,tpr)\n",
    "    plt.plot([0, 1], [0, 1], linestyle='--')\n",
    "    plt.xlim([0.0,1.0])\n",
    "    plt.ylim([0.0,1.0])\n",
    "    plt.xlabel('False Positive Rate')\n",
    "    plt.ylabel('True Positive Rate')\n",
    "    plt.title('ROC-curve')\n",
    "    plt.show()\n",
    "    return auc_roc"
   ]
  },
  {
   "cell_type": "code",
   "execution_count": 29,
   "metadata": {},
   "outputs": [],
   "source": [
    "def evaluate_model(model_name, model, train_score, features_test, target_test,parameters=None):\n",
    "    print(f'Evaluation of the model: {model_name}')\n",
    "    if parameters:\n",
    "        print(f'with parameters: {parameters}')\n",
    "    \n",
    "    print(f'Model accuracy on train sample: {train_score}')\n",
    "    # Evaluating the accuracy of the model on the test sample\n",
    "    test_score = model.score(features_test,target_test)\n",
    "    print(f'Model accuracy on test sample: {test_score}')\n",
    "    # Generating predictions\n",
    "    predictions_test = model.predict(features_test)\n",
    "    # Error matrix\n",
    "    error_matrix = confusion_matrix(target_test,predictions_test)\n",
    "    # Recall \n",
    "    recall = recall_score(target_test, predictions_test)\n",
    "    # Precision\n",
    "    precision = precision_score(target_test, predictions_test)\n",
    "    # F1 - Score\n",
    "    f1_Score = f1_score(target_test, predictions_test)\n",
    "    print()\n",
    "    # Draw error matrix\n",
    "    drawErrorMatrix(error_matrix,model_name)\n",
    "    print()\n",
    "    # Draw Precision-Recall curve\n",
    "    drawPR_curve(target_test, features_test, model)\n",
    "    print()\n",
    "    # Draw ROC-curve and calculate AUC-ROC area\n",
    "    auc_roc_score = drawROC_curve(target_test, features_test, model)\n",
    "    print()\n",
    "    print(f'Recall - {recall}')\n",
    "    print(f'Precision - {precision}')\n",
    "    print(f'F1-Score - {f1_Score}')\n",
    "    print(f'AUC-ROC_score - {auc_roc_score}')\n",
    "    # добаляем модель\n",
    "    ml_models_stats[model_name] = {\n",
    "        'name': model_name,\n",
    "        'train_score': train_score,\n",
    "        'test_score':test_score,\n",
    "        'recall':recall,\n",
    "        'precision':precision,\n",
    "        'f1_score':f1_Score,\n",
    "        'auc_roc_score':auc_roc_score\n",
    "    }\n",
    "    print()\n",
    "    print('Model has been successfully added!')"
   ]
  },
  {
   "cell_type": "markdown",
   "metadata": {},
   "source": [
    "<a id='Logistic'></a>\n",
    "<b>Logistic Regression<b>"
   ]
  },
  {
   "cell_type": "code",
   "execution_count": 30,
   "metadata": {},
   "outputs": [
    {
     "name": "stdout",
     "output_type": "stream",
     "text": [
      "CPU times: user 13min 41s, sys: 12 s, total: 13min 54s\n",
      "Wall time: 5min 12s\n"
     ]
    },
    {
     "data": {
      "text/plain": [
       "RandomizedSearchCV(cv=5, estimator=LogisticRegression(random_state=42),\n",
       "                   n_iter=20,\n",
       "                   param_distributions={'C': [0.5, 1.0, 1.5],\n",
       "                                        'intercept_scaling': [0.5, 1.0, 1.5],\n",
       "                                        'solver': ['liblinear', 'sag', 'saga',\n",
       "                                                   'newton-cg']},\n",
       "                   scoring='f1')"
      ]
     },
     "execution_count": 30,
     "metadata": {},
     "output_type": "execute_result"
    }
   ],
   "source": [
    "%%time\n",
    "gs_params = {\n",
    "    'solver': ['liblinear', 'sag','saga','newton-cg'],\n",
    "    'C': [0.5,1.0,1.5],\n",
    "    'intercept_scaling':[0.5,1.0,1.5]\n",
    "}\n",
    "gs_logistic = RandomizedSearchCV(LogisticRegression(random_state=random_state_value),gs_params,scoring='f1',cv=5, n_iter=20)\n",
    "gs_logistic.fit(features_train,target_train)"
   ]
  },
  {
   "cell_type": "code",
   "execution_count": 31,
   "metadata": {},
   "outputs": [
    {
     "name": "stdout",
     "output_type": "stream",
     "text": [
      "Evaluation of the model: Logistic Regression\n",
      "with parameters: {'solver': 'saga', 'intercept_scaling': 1.5, 'C': 1.5}\n",
      "Model accuracy on train sample: 0.9634236081464621\n",
      "Model accuracy on test sample: 0.9468327776802948\n",
      "\n"
     ]
    },
    {
     "data": {
      "image/png": "[encoded data removed]",
      "text/plain": [
       "<Figure size 432x288 with 1 Axes>"
      ]
     },
     "metadata": {
      "needs_background": "light"
     },
     "output_type": "display_data"
    },
    {
     "name": "stdout",
     "output_type": "stream",
     "text": [
      "\n"
     ]
    },
    {
     "data": {
      "image/png": "[encoded data removed]",
      "text/plain": [
       "<Figure size 432x288 with 1 Axes>"
      ]
     },
     "metadata": {
      "needs_background": "light"
     },
     "output_type": "display_data"
    },
    {
     "name": "stdout",
     "output_type": "stream",
     "text": [
      "\n"
     ]
    },
    {
     "data": {
      "image/png": "[encoded data removed]",
      "text/plain": [
       "<Figure size 432x288 with 1 Axes>"
      ]
     },
     "metadata": {
      "needs_background": "light"
     },
     "output_type": "display_data"
    },
    {
     "name": "stdout",
     "output_type": "stream",
     "text": [
      "\n",
      "Recall - 0.8300073909830007\n",
      "Precision - 0.701875\n",
      "F1-Score - 0.7605824585167626\n",
      "AUC-ROC_score - 0.9689416699760466\n",
      "\n",
      "Model has been successfully added!\n"
     ]
    }
   ],
   "source": [
    "evaluate_model(\"Logistic Regression\", gs_logistic.best_estimator_, gs_logistic.best_score_,\n",
    "               features_test, target_test,gs_logistic.best_params_)"
   ]
  },
  {
   "cell_type": "markdown",
   "metadata": {},
   "source": [
    "---"
   ]
  },
  {
   "cell_type": "markdown",
   "metadata": {},
   "source": [
    "<a id='Random'></a>\n",
    "<b>Random Forest</b>"
   ]
  },
  {
   "cell_type": "code",
   "execution_count": 32,
   "metadata": {},
   "outputs": [
    {
     "name": "stdout",
     "output_type": "stream",
     "text": [
      "CPU times: user 1h 18min 49s, sys: 24.7 s, total: 1h 19min 14s\n",
      "Wall time: 1h 20min\n"
     ]
    },
    {
     "data": {
      "text/plain": [
       "RandomizedSearchCV(cv=5, estimator=RandomForestClassifier(random_state=42),\n",
       "                   n_iter=20,\n",
       "                   param_distributions={'max_depth': range(1, 26),\n",
       "                                        'min_samples_leaf': range(1, 11)},\n",
       "                   scoring='f1')"
      ]
     },
     "execution_count": 32,
     "metadata": {},
     "output_type": "execute_result"
    }
   ],
   "source": [
    "%%time\n",
    "rs_params = {\n",
    "    'max_depth': range(1, 26),\n",
    "    'min_samples_leaf':range(1,11)\n",
    "}\n",
    "forest_balanced_rs = RandomizedSearchCV(RandomForestClassifier(random_state=random_state_value),rs_params,scoring='f1',cv=5, n_iter=20)\n",
    "forest_balanced_rs.fit(features_train, target_train)"
   ]
  },
  {
   "cell_type": "code",
   "execution_count": 33,
   "metadata": {},
   "outputs": [
    {
     "name": "stdout",
     "output_type": "stream",
     "text": [
      "Evaluation of the model: Random Forest\n",
      "with parameters: {'min_samples_leaf': 3, 'max_depth': 24}\n",
      "Model accuracy on train sample: 0.8455110815449238\n",
      "Model accuracy on test sample: 0.8683728975008147\n",
      "\n"
     ]
    },
    {
     "data": {
      "image/png": "[encoded data removed]",
      "text/plain": [
       "<Figure size 432x288 with 1 Axes>"
      ]
     },
     "metadata": {
      "needs_background": "light"
     },
     "output_type": "display_data"
    },
    {
     "name": "stdout",
     "output_type": "stream",
     "text": [
      "\n"
     ]
    },
    {
     "data": {
      "image/png": "[encoded data removed]",
      "text/plain": [
       "<Figure size 432x288 with 1 Axes>"
      ]
     },
     "metadata": {
      "needs_background": "light"
     },
     "output_type": "display_data"
    },
    {
     "name": "stdout",
     "output_type": "stream",
     "text": [
      "\n"
     ]
    },
    {
     "data": {
      "image/png": "[encoded data removed]",
      "text/plain": [
       "<Figure size 432x288 with 1 Axes>"
      ]
     },
     "metadata": {
      "needs_background": "light"
     },
     "output_type": "display_data"
    },
    {
     "name": "stdout",
     "output_type": "stream",
     "text": [
      "\n",
      "Recall - 0.7277654594727766\n",
      "Precision - 0.416056338028169\n",
      "F1-Score - 0.5294381216954924\n",
      "AUC-ROC_score - 0.8864078370573087\n",
      "\n",
      "Model has been successfully added!\n"
     ]
    }
   ],
   "source": [
    "evaluate_model(\"Random Forest\", forest_balanced_rs.best_estimator_, forest_balanced_rs.best_score_, features_test, target_test,forest_balanced_rs.best_params_)"
   ]
  },
  {
   "cell_type": "markdown",
   "metadata": {},
   "source": [
    "---"
   ]
  },
  {
   "cell_type": "markdown",
   "metadata": {},
   "source": [
    "<a id='XGBClassifier'></a>\n",
    "<b>XGBClassifier</b>"
   ]
  },
  {
   "cell_type": "code",
   "execution_count": 34,
   "metadata": {},
   "outputs": [
    {
     "name": "stderr",
     "output_type": "stream",
     "text": [
      "/Users/igor/opt/anaconda3/envs/analysis/lib/python3.7/site-packages/sklearn/model_selection/_search.py:296: UserWarning: The total space of parameters 12 is smaller than n_iter=20. Running 12 iterations. For exhaustive searches, use GridSearchCV.\n",
      "  UserWarning,\n",
      "/Users/igor/opt/anaconda3/envs/analysis/lib/python3.7/site-packages/xgboost/sklearn.py:1224: UserWarning: The use of label encoder in XGBClassifier is deprecated and will be removed in a future release. To remove this warning, do the following: 1) Pass option use_label_encoder=False when constructing XGBClassifier object; and 2) Encode your labels (y) as integers starting with 0, i.e. 0, 1, 2, ..., [num_class - 1].\n",
      "  warnings.warn(label_encoder_deprecation_msg, UserWarning)\n"
     ]
    },
    {
     "name": "stdout",
     "output_type": "stream",
     "text": [
      "[14:23:38] WARNING: ../src/learner.cc:1115: Starting in XGBoost 1.3.0, the default evaluation metric used with the objective 'binary:logistic' was changed from 'error' to 'logloss'. Explicitly set eval_metric if you'd like to restore the old behavior.\n",
      "CPU times: user 8min 45s, sys: 5.15 s, total: 8min 51s\n",
      "Wall time: 45min 57s\n"
     ]
    },
    {
     "data": {
      "text/plain": [
       "RandomizedSearchCV(estimator=XGBClassifier(base_score=None, booster=None,\n",
       "                                           colsample_bylevel=None,\n",
       "                                           colsample_bynode=None,\n",
       "                                           colsample_bytree=None,\n",
       "                                           enable_categorical=False, gamma=None,\n",
       "                                           gpu_id=None, importance_type=None,\n",
       "                                           interaction_constraints=None,\n",
       "                                           learning_rate=None,\n",
       "                                           max_delta_step=None, max_depth=None,\n",
       "                                           min_child_weight=None, missing=nan,\n",
       "                                           monotone_constraints=None,\n",
       "                                           n_estimators=100, n_jobs=None,\n",
       "                                           nthread=-1, num_parallel_tree=None,\n",
       "                                           predictor=None, random_state=None,\n",
       "                                           reg_alpha=None, reg_lambda=None,\n",
       "                                           scale_pos_weight=None,\n",
       "                                           subsample=None, tree_method=None,\n",
       "                                           validate_parameters=None,\n",
       "                                           verbosity=None),\n",
       "                   n_iter=20, n_jobs=-1,\n",
       "                   param_distributions={'max_depth': range(3, 10, 2),\n",
       "                                        'min_child_weight': range(1, 6, 2)},\n",
       "                   scoring='f1')"
      ]
     },
     "execution_count": 34,
     "metadata": {},
     "output_type": "execute_result"
    }
   ],
   "source": [
    "%%time\n",
    "xgb_params = {\n",
    "    \"max_depth\": range(3, 10,2),\n",
    "    \"min_child_weight\": range(1,6,2)\n",
    "}\n",
    "xgb = xgb.XGBClassifier(nthread=-1) \n",
    "xgb_gs = RandomizedSearchCV(xgb, xgb_params, scoring='f1',n_jobs=-1, n_iter=20)\n",
    "xgb_gs.fit(features_train,target_train)"
   ]
  },
  {
   "cell_type": "code",
   "execution_count": 35,
   "metadata": {},
   "outputs": [
    {
     "name": "stdout",
     "output_type": "stream",
     "text": [
      "Evaluation of the model: XGBoost\n",
      "with parameters: {'min_child_weight': 1, 'max_depth': 9}\n",
      "Model accuracy on train sample: 0.9156225547640904\n",
      "Model accuracy on test sample: 0.9484120021056326\n",
      "\n"
     ]
    },
    {
     "data": {
      "image/png": "[encoded data removed]",
      "text/plain": [
       "<Figure size 432x288 with 1 Axes>"
      ]
     },
     "metadata": {
      "needs_background": "light"
     },
     "output_type": "display_data"
    },
    {
     "name": "stdout",
     "output_type": "stream",
     "text": [
      "\n"
     ]
    },
    {
     "data": {
      "image/png": "[encoded data removed]",
      "text/plain": [
       "<Figure size 432x288 with 1 Axes>"
      ]
     },
     "metadata": {
      "needs_background": "light"
     },
     "output_type": "display_data"
    },
    {
     "name": "stdout",
     "output_type": "stream",
     "text": [
      "\n"
     ]
    },
    {
     "data": {
      "image/png": "[encoded data removed]",
      "text/plain": [
       "<Figure size 432x288 with 1 Axes>"
      ]
     },
     "metadata": {
      "needs_background": "light"
     },
     "output_type": "display_data"
    },
    {
     "name": "stdout",
     "output_type": "stream",
     "text": [
      "\n",
      "Recall - 0.7819660014781966\n",
      "Precision - 0.7301587301587301\n",
      "F1-Score - 0.7551748750892221\n",
      "AUC-ROC_score - 0.9454470006044542\n",
      "\n",
      "Model has been successfully added!\n"
     ]
    }
   ],
   "source": [
    "evaluate_model(\"XGBoost\", xgb_gs.best_estimator_, xgb_gs.best_score_, features_test, target_test,xgb_gs.best_params_)"
   ]
  },
  {
   "cell_type": "markdown",
   "metadata": {},
   "source": [
    "---"
   ]
  },
  {
   "cell_type": "markdown",
   "metadata": {},
   "source": [
    "<a id='LGBMClassifier'></a>\n",
    "<b>LGBMClassifier</b>"
   ]
  },
  {
   "cell_type": "code",
   "execution_count": 36,
   "metadata": {},
   "outputs": [
    {
     "name": "stdout",
     "output_type": "stream",
     "text": [
      "CPU times: user 6h 27min 31s, sys: 3min 16s, total: 6h 30min 47s\n",
      "Wall time: 1h 1min 48s\n"
     ]
    },
    {
     "data": {
      "text/plain": [
       "RandomizedSearchCV(cv=5, estimator=LGBMClassifier(random_state=42), n_iter=20,\n",
       "                   param_distributions={'boosting_type': ['dart', 'gbdt',\n",
       "                                                          'goss'],\n",
       "                                        'max_depth': [15, 30],\n",
       "                                        'num_leaves': [5, 10, 20],\n",
       "                                        'objective': ['regression', 'binary']},\n",
       "                   scoring='f1')"
      ]
     },
     "execution_count": 36,
     "metadata": {},
     "output_type": "execute_result"
    }
   ],
   "source": [
    "%%time\n",
    "lgb_params = {\n",
    "    'objective': ['regression','binary'],\n",
    "    'boosting_type' : ['dart','gbdt','goss'],\n",
    "    'max_depth': [15,30],\n",
    "    'num_leaves': [5,10, 20]\n",
    "}\n",
    "lgb_reg = lgb.LGBMClassifier(random_state=random_state_value)\n",
    "lgb_rs = RandomizedSearchCV(lgb_reg, lgb_params,scoring='f1', cv=5, n_iter=20)\n",
    "lgb_rs.fit(features_train,target_train)"
   ]
  },
  {
   "cell_type": "code",
   "execution_count": 37,
   "metadata": {},
   "outputs": [
    {
     "name": "stdout",
     "output_type": "stream",
     "text": [
      "Evaluation of the model: LightGBM\n",
      "with parameters: {'objective': 'binary', 'num_leaves': 20, 'max_depth': 30, 'boosting_type': 'goss'}\n",
      "Model accuracy on train sample: 0.8684064626102721\n",
      "Model accuracy on test sample: 0.9434737923946557\n",
      "\n"
     ]
    },
    {
     "data": {
      "image/png": "[encoded data removed]",
      "text/plain": [
       "<Figure size 432x288 with 1 Axes>"
      ]
     },
     "metadata": {
      "needs_background": "light"
     },
     "output_type": "display_data"
    },
    {
     "name": "stdout",
     "output_type": "stream",
     "text": [
      "\n"
     ]
    },
    {
     "data": {
      "image/png": "[encoded data removed]",
      "text/plain": [
       "<Figure size 432x288 with 1 Axes>"
      ]
     },
     "metadata": {
      "needs_background": "light"
     },
     "output_type": "display_data"
    },
    {
     "name": "stdout",
     "output_type": "stream",
     "text": [
      "\n"
     ]
    },
    {
     "data": {
      "image/png": "[encoded data removed]",
      "text/plain": [
       "<Figure size 432x288 with 1 Axes>"
      ]
     },
     "metadata": {
      "needs_background": "light"
     },
     "output_type": "display_data"
    },
    {
     "name": "stdout",
     "output_type": "stream",
     "text": [
      "\n",
      "Recall - 0.789849716678985\n",
      "Precision - 0.6957465277777778\n",
      "F1-Score - 0.7398176993192569\n",
      "AUC-ROC_score - 0.9509969618056093\n",
      "\n",
      "Model has been successfully added!\n"
     ]
    }
   ],
   "source": [
    "evaluate_model(\"LightGBM\", lgb_rs.best_estimator_, lgb_rs.best_score_, features_test, target_test,lgb_rs.best_params_)"
   ]
  },
  {
   "cell_type": "markdown",
   "metadata": {},
   "source": [
    "---"
   ]
  },
  {
   "cell_type": "markdown",
   "metadata": {},
   "source": [
    "<a id='DummyClassifier'></a>\n",
    "<b>DummyClassifier</b>"
   ]
  },
  {
   "cell_type": "code",
   "execution_count": 38,
   "metadata": {},
   "outputs": [
    {
     "name": "stdout",
     "output_type": "stream",
     "text": [
      "CPU times: user 23.1 ms, sys: 4.25 ms, total: 27.3 ms\n",
      "Wall time: 14 ms\n"
     ]
    },
    {
     "data": {
      "text/plain": [
       "DummyClassifier(constant=1, random_state=42, strategy='constant')"
      ]
     },
     "execution_count": 38,
     "metadata": {},
     "output_type": "execute_result"
    }
   ],
   "source": [
    "%%time\n",
    "dummy_model = DummyClassifier(strategy='constant',constant=1, random_state=random_state_value)\n",
    "dummy_model.fit(features_train,target_train)"
   ]
  },
  {
   "cell_type": "code",
   "execution_count": 39,
   "metadata": {},
   "outputs": [
    {
     "name": "stdout",
     "output_type": "stream",
     "text": [
      "Evaluation of the model: Dummy constant\n",
      "Model accuracy on train sample: 0.4751415739113454\n",
      "Model accuracy on test sample: 0.10174717368961973\n",
      "\n"
     ]
    },
    {
     "data": {
      "image/png": "[encoded data removed]",
      "text/plain": [
       "<Figure size 432x288 with 1 Axes>"
      ]
     },
     "metadata": {
      "needs_background": "light"
     },
     "output_type": "display_data"
    },
    {
     "name": "stdout",
     "output_type": "stream",
     "text": [
      "\n"
     ]
    },
    {
     "data": {
      "image/png": "[encoded data removed]",
      "text/plain": [
       "<Figure size 432x288 with 1 Axes>"
      ]
     },
     "metadata": {
      "needs_background": "light"
     },
     "output_type": "display_data"
    },
    {
     "name": "stdout",
     "output_type": "stream",
     "text": [
      "\n"
     ]
    },
    {
     "data": {
      "image/png": "[encoded data removed]",
      "text/plain": [
       "<Figure size 432x288 with 1 Axes>"
      ]
     },
     "metadata": {
      "needs_background": "light"
     },
     "output_type": "display_data"
    },
    {
     "name": "stdout",
     "output_type": "stream",
     "text": [
      "\n",
      "Recall - 1.0\n",
      "Precision - 0.10174717368961973\n",
      "F1-Score - 0.1847014925373134\n",
      "AUC-ROC_score - 0.5\n",
      "\n",
      "Model has been successfully added!\n"
     ]
    }
   ],
   "source": [
    "evaluate_model(\"Dummy constant\", dummy_model, dummy_model.score(features_train,target_train), features_test, target_test)"
   ]
  },
  {
   "cell_type": "markdown",
   "metadata": {},
   "source": [
    "## Conclusions"
   ]
  },
  {
   "cell_type": "markdown",
   "metadata": {},
   "source": [
    "As part of the investigation, the following actions were carried out. Text data has been prepared, purification, lemmatization, and deletion of common words have been carried out. Studies have been conducted to identify models with the best `F1-Score`."
   ]
  },
  {
   "cell_type": "code",
   "execution_count": 44,
   "metadata": {},
   "outputs": [
    {
     "data": {
      "text/html": [
       "<style type=\"text/css\">\n",
       "</style>\n",
       "<table id=\"T_86c6c_\">\n",
       "  <thead>\n",
       "    <tr>\n",
       "      <th class=\"blank level0\" >&nbsp;</th>\n",
       "      <th class=\"col_heading level0 col0\" >name</th>\n",
       "      <th class=\"col_heading level0 col1\" >train_score</th>\n",
       "      <th class=\"col_heading level0 col2\" >test_score</th>\n",
       "      <th class=\"col_heading level0 col3\" >recall</th>\n",
       "      <th class=\"col_heading level0 col4\" >precision</th>\n",
       "      <th class=\"col_heading level0 col5\" >f1_score</th>\n",
       "      <th class=\"col_heading level0 col6\" >auc_roc_score</th>\n",
       "    </tr>\n",
       "  </thead>\n",
       "  <tbody>\n",
       "    <tr>\n",
       "      <th id=\"T_86c6c_level0_row0\" class=\"row_heading level0 row0\" >Logistic Regression</th>\n",
       "      <td id=\"T_86c6c_row0_col0\" class=\"data row0 col0\" >Logistic Regression</td>\n",
       "      <td id=\"T_86c6c_row0_col1\" class=\"data row0 col1\" >0.963424</td>\n",
       "      <td id=\"T_86c6c_row0_col2\" class=\"data row0 col2\" >0.946833</td>\n",
       "      <td id=\"T_86c6c_row0_col3\" class=\"data row0 col3\" >0.830007</td>\n",
       "      <td id=\"T_86c6c_row0_col4\" class=\"data row0 col4\" >0.701875</td>\n",
       "      <td id=\"T_86c6c_row0_col5\" class=\"data row0 col5\" >0.760582</td>\n",
       "      <td id=\"T_86c6c_row0_col6\" class=\"data row0 col6\" >0.968942</td>\n",
       "    </tr>\n",
       "    <tr>\n",
       "      <th id=\"T_86c6c_level0_row1\" class=\"row_heading level0 row1\" >Random Forest</th>\n",
       "      <td id=\"T_86c6c_row1_col0\" class=\"data row1 col0\" >Random Forest</td>\n",
       "      <td id=\"T_86c6c_row1_col1\" class=\"data row1 col1\" >0.845511</td>\n",
       "      <td id=\"T_86c6c_row1_col2\" class=\"data row1 col2\" >0.868373</td>\n",
       "      <td id=\"T_86c6c_row1_col3\" class=\"data row1 col3\" >0.727765</td>\n",
       "      <td id=\"T_86c6c_row1_col4\" class=\"data row1 col4\" >0.416056</td>\n",
       "      <td id=\"T_86c6c_row1_col5\" class=\"data row1 col5\" >0.529438</td>\n",
       "      <td id=\"T_86c6c_row1_col6\" class=\"data row1 col6\" >0.886408</td>\n",
       "    </tr>\n",
       "    <tr>\n",
       "      <th id=\"T_86c6c_level0_row2\" class=\"row_heading level0 row2\" >XGBoost</th>\n",
       "      <td id=\"T_86c6c_row2_col0\" class=\"data row2 col0\" >XGBoost</td>\n",
       "      <td id=\"T_86c6c_row2_col1\" class=\"data row2 col1\" >0.915623</td>\n",
       "      <td id=\"T_86c6c_row2_col2\" class=\"data row2 col2\" >0.948412</td>\n",
       "      <td id=\"T_86c6c_row2_col3\" class=\"data row2 col3\" >0.781966</td>\n",
       "      <td id=\"T_86c6c_row2_col4\" class=\"data row2 col4\" >0.730159</td>\n",
       "      <td id=\"T_86c6c_row2_col5\" class=\"data row2 col5\" >0.755175</td>\n",
       "      <td id=\"T_86c6c_row2_col6\" class=\"data row2 col6\" >0.945447</td>\n",
       "    </tr>\n",
       "    <tr>\n",
       "      <th id=\"T_86c6c_level0_row3\" class=\"row_heading level0 row3\" >LightGBM</th>\n",
       "      <td id=\"T_86c6c_row3_col0\" class=\"data row3 col0\" >LightGBM</td>\n",
       "      <td id=\"T_86c6c_row3_col1\" class=\"data row3 col1\" >0.868406</td>\n",
       "      <td id=\"T_86c6c_row3_col2\" class=\"data row3 col2\" >0.943474</td>\n",
       "      <td id=\"T_86c6c_row3_col3\" class=\"data row3 col3\" >0.789850</td>\n",
       "      <td id=\"T_86c6c_row3_col4\" class=\"data row3 col4\" >0.695747</td>\n",
       "      <td id=\"T_86c6c_row3_col5\" class=\"data row3 col5\" >0.739818</td>\n",
       "      <td id=\"T_86c6c_row3_col6\" class=\"data row3 col6\" >0.950997</td>\n",
       "    </tr>\n",
       "    <tr>\n",
       "      <th id=\"T_86c6c_level0_row4\" class=\"row_heading level0 row4\" >Dummy constant</th>\n",
       "      <td id=\"T_86c6c_row4_col0\" class=\"data row4 col0\" >Dummy constant</td>\n",
       "      <td id=\"T_86c6c_row4_col1\" class=\"data row4 col1\" >0.475142</td>\n",
       "      <td id=\"T_86c6c_row4_col2\" class=\"data row4 col2\" >0.101747</td>\n",
       "      <td id=\"T_86c6c_row4_col3\" class=\"data row4 col3\" >1.000000</td>\n",
       "      <td id=\"T_86c6c_row4_col4\" class=\"data row4 col4\" >0.101747</td>\n",
       "      <td id=\"T_86c6c_row4_col5\" class=\"data row4 col5\" >0.184701</td>\n",
       "      <td id=\"T_86c6c_row4_col6\" class=\"data row4 col6\" >0.500000</td>\n",
       "    </tr>\n",
       "  </tbody>\n",
       "</table>\n"
      ],
      "text/plain": [
       "<pandas.io.formats.style.Styler at 0x7f9674854450>"
      ]
     },
     "execution_count": 44,
     "metadata": {},
     "output_type": "execute_result"
    }
   ],
   "source": [
    "pd.DataFrame.from_dict(ml_models_stats, orient=\"index\").style"
   ]
  },
  {
   "cell_type": "code",
   "execution_count": null,
   "metadata": {},
   "outputs": [],
   "source": []
  }
 ],
 "metadata": {
  "ExecuteTimeLog": [
   {
    "duration": 5623,
    "start_time": "2021-07-27T02:15:17.286Z"
   },
   {
    "duration": 1146,
    "start_time": "2021-07-27T02:16:03.817Z"
   },
   {
    "duration": 1234,
    "start_time": "2021-07-27T02:16:12.483Z"
   },
   {
    "duration": 337,
    "start_time": "2021-07-27T02:16:15.651Z"
   },
   {
    "duration": 737,
    "start_time": "2021-07-27T02:16:39.498Z"
   },
   {
    "duration": 5557,
    "start_time": "2021-07-27T02:19:31.926Z"
   },
   {
    "duration": 731,
    "start_time": "2021-07-27T02:19:37.486Z"
   },
   {
    "duration": 1146,
    "start_time": "2021-07-27T02:19:38.223Z"
   },
   {
    "duration": 35,
    "start_time": "2021-07-27T02:19:40.367Z"
   },
   {
    "duration": 55,
    "start_time": "2021-07-27T02:20:19.220Z"
   },
   {
    "duration": 14,
    "start_time": "2021-07-27T02:21:08.563Z"
   },
   {
    "duration": 7,
    "start_time": "2021-07-27T02:21:18.219Z"
   },
   {
    "duration": 7,
    "start_time": "2021-07-27T02:21:28.105Z"
   },
   {
    "duration": 27,
    "start_time": "2021-07-27T02:21:57.735Z"
   },
   {
    "duration": 19,
    "start_time": "2021-07-27T02:22:10.278Z"
   },
   {
    "duration": 9,
    "start_time": "2021-07-27T02:22:25.815Z"
   },
   {
    "duration": 12,
    "start_time": "2021-07-27T02:22:28.972Z"
   },
   {
    "duration": 26,
    "start_time": "2021-07-27T02:25:47.546Z"
   },
   {
    "duration": 3,
    "start_time": "2021-07-27T02:26:00.714Z"
   },
   {
    "duration": 3,
    "start_time": "2021-07-27T02:26:02.521Z"
   },
   {
    "duration": 870,
    "start_time": "2021-07-27T02:26:06.756Z"
   },
   {
    "duration": 27,
    "start_time": "2021-07-27T02:26:12.749Z"
   },
   {
    "duration": 8,
    "start_time": "2021-07-27T02:26:15.026Z"
   },
   {
    "duration": 13,
    "start_time": "2021-07-27T02:26:18.439Z"
   },
   {
    "duration": 9,
    "start_time": "2021-07-27T02:26:27.113Z"
   },
   {
    "duration": 3,
    "start_time": "2021-07-27T02:26:47.367Z"
   },
   {
    "duration": 3715,
    "start_time": "2021-07-27T02:26:50.114Z"
   },
   {
    "duration": 12,
    "start_time": "2021-07-27T02:27:06.421Z"
   },
   {
    "duration": 4,
    "start_time": "2021-07-27T02:27:33.534Z"
   },
   {
    "duration": 386,
    "start_time": "2021-07-27T02:27:42.924Z"
   },
   {
    "duration": 91,
    "start_time": "2021-07-27T02:27:51.535Z"
   },
   {
    "duration": 512,
    "start_time": "2021-07-27T02:28:24.271Z"
   },
   {
    "duration": 24,
    "start_time": "2021-07-27T02:42:30.557Z"
   },
   {
    "duration": 23,
    "start_time": "2021-07-27T02:42:47.988Z"
   },
   {
    "duration": 389,
    "start_time": "2021-07-27T02:43:25.626Z"
   },
   {
    "duration": 20,
    "start_time": "2021-07-27T02:43:55.387Z"
   },
   {
    "duration": 5670,
    "start_time": "2021-07-27T02:43:56.217Z"
   },
   {
    "duration": 5810,
    "start_time": "2021-07-27T02:44:19.762Z"
   },
   {
    "duration": 10032,
    "start_time": "2021-07-27T02:45:52.542Z"
   },
   {
    "duration": 5,
    "start_time": "2021-07-27T02:46:15.764Z"
   },
   {
    "duration": 750,
    "start_time": "2021-07-27T02:47:09.247Z"
   },
   {
    "duration": 8,
    "start_time": "2021-07-27T02:47:14.103Z"
   },
   {
    "duration": 31,
    "start_time": "2021-07-27T02:47:19.511Z"
   },
   {
    "duration": 370,
    "start_time": "2021-07-27T02:47:25.827Z"
   },
   {
    "duration": 7,
    "start_time": "2021-07-27T02:48:09.732Z"
   },
   {
    "duration": 9900,
    "start_time": "2021-07-27T02:52:10.009Z"
   },
   {
    "duration": 5569,
    "start_time": "2021-07-27T02:59:14.335Z"
   },
   {
    "duration": 817,
    "start_time": "2021-07-27T02:59:20.975Z"
   },
   {
    "duration": 35,
    "start_time": "2021-07-27T02:59:22.424Z"
   },
   {
    "duration": 31,
    "start_time": "2021-07-27T02:59:23.251Z"
   },
   {
    "duration": 4,
    "start_time": "2021-07-27T02:59:23.994Z"
   },
   {
    "duration": 1179,
    "start_time": "2021-07-27T02:59:24.681Z"
   },
   {
    "duration": 3857,
    "start_time": "2021-07-27T02:59:27.999Z"
   },
   {
    "duration": 4,
    "start_time": "2021-07-27T02:59:32.934Z"
   },
   {
    "duration": 392,
    "start_time": "2021-07-27T02:59:33.657Z"
   },
   {
    "duration": 85,
    "start_time": "2021-07-27T02:59:34.639Z"
   },
   {
    "duration": 21,
    "start_time": "2021-07-27T02:59:35.904Z"
   },
   {
    "duration": 24659,
    "start_time": "2021-07-27T02:59:37.686Z"
   },
   {
    "duration": 271,
    "start_time": "2021-07-27T03:06:15.915Z"
   },
   {
    "duration": 3736,
    "start_time": "2021-07-27T03:06:18.156Z"
   },
   {
    "duration": 4,
    "start_time": "2021-07-27T03:06:24.051Z"
   },
   {
    "duration": 438,
    "start_time": "2021-07-27T03:06:25.351Z"
   },
   {
    "duration": 24,
    "start_time": "2021-07-27T03:06:26.336Z"
   },
   {
    "duration": 79,
    "start_time": "2021-07-27T03:06:27.191Z"
   },
   {
    "duration": 18569,
    "start_time": "2021-07-27T03:06:29.298Z"
   },
   {
    "duration": 6187,
    "start_time": "2021-07-27T03:08:39.049Z"
   },
   {
    "duration": 6032,
    "start_time": "2021-07-27T03:10:22.146Z"
   },
   {
    "duration": 767,
    "start_time": "2021-07-27T03:10:28.183Z"
   },
   {
    "duration": 30,
    "start_time": "2021-07-27T03:10:28.953Z"
   },
   {
    "duration": 38,
    "start_time": "2021-07-27T03:10:28.986Z"
   },
   {
    "duration": 3,
    "start_time": "2021-07-27T03:10:29.026Z"
   },
   {
    "duration": 191,
    "start_time": "2021-07-27T03:10:29.031Z"
   },
   {
    "duration": 3631,
    "start_time": "2021-07-27T03:10:29.225Z"
   },
   {
    "duration": 5,
    "start_time": "2021-07-27T03:10:32.858Z"
   },
   {
    "duration": 440,
    "start_time": "2021-07-27T03:10:32.868Z"
   },
   {
    "duration": 26,
    "start_time": "2021-07-27T03:10:33.311Z"
   },
   {
    "duration": 106,
    "start_time": "2021-07-27T03:10:33.340Z"
   },
   {
    "duration": 18322,
    "start_time": "2021-07-27T03:10:33.449Z"
   },
   {
    "duration": 5753,
    "start_time": "2021-07-27T03:31:17.676Z"
   },
   {
    "duration": 383,
    "start_time": "2021-07-27T03:34:57.454Z"
   },
   {
    "duration": 4825,
    "start_time": "2021-07-27T03:35:08.177Z"
   },
   {
    "duration": 20,
    "start_time": "2021-07-27T03:35:14.555Z"
   },
   {
    "duration": 121717,
    "start_time": "2021-07-27T03:35:32.650Z"
   },
   {
    "duration": 1296,
    "start_time": "2021-07-27T03:46:05.868Z"
   },
   {
    "duration": 13,
    "start_time": "2021-07-27T03:46:29.994Z"
   },
   {
    "duration": 7,
    "start_time": "2021-07-27T03:46:54.117Z"
   },
   {
    "duration": 7,
    "start_time": "2021-07-27T03:46:59.627Z"
   },
   {
    "duration": 5890,
    "start_time": "2021-07-27T03:47:26.545Z"
   },
   {
    "duration": 5605,
    "start_time": "2021-07-27T03:47:40.092Z"
   },
   {
    "duration": 745,
    "start_time": "2021-07-27T03:47:53.805Z"
   },
   {
    "duration": 32,
    "start_time": "2021-07-27T03:47:55.328Z"
   },
   {
    "duration": 33,
    "start_time": "2021-07-27T03:47:56.080Z"
   },
   {
    "duration": 3,
    "start_time": "2021-07-27T03:47:56.707Z"
   },
   {
    "duration": 165,
    "start_time": "2021-07-27T03:47:57.237Z"
   },
   {
    "duration": 3588,
    "start_time": "2021-07-27T03:47:57.706Z"
   },
   {
    "duration": 4,
    "start_time": "2021-07-27T03:48:01.297Z"
   },
   {
    "duration": 416,
    "start_time": "2021-07-27T03:48:03.967Z"
   },
   {
    "duration": 27,
    "start_time": "2021-07-27T03:48:05.508Z"
   },
   {
    "duration": 131,
    "start_time": "2021-07-27T03:48:06.271Z"
   },
   {
    "duration": 20925,
    "start_time": "2021-07-27T03:48:11.894Z"
   },
   {
    "duration": 1742,
    "start_time": "2021-07-27T03:50:04.920Z"
   },
   {
    "duration": 13,
    "start_time": "2021-07-27T03:50:40.930Z"
   },
   {
    "duration": 1163,
    "start_time": "2021-07-27T03:51:07.020Z"
   },
   {
    "duration": 6,
    "start_time": "2021-07-27T03:51:46.978Z"
   },
   {
    "duration": 5,
    "start_time": "2021-07-27T03:51:57.539Z"
   },
   {
    "duration": 8,
    "start_time": "2021-07-27T03:52:09.919Z"
   },
   {
    "duration": 1151,
    "start_time": "2021-07-27T03:53:05.741Z"
   },
   {
    "duration": 6,
    "start_time": "2021-07-27T03:53:23.594Z"
   },
   {
    "duration": 11424,
    "start_time": "2021-07-27T04:23:22.530Z"
   },
   {
    "duration": 20552,
    "start_time": "2021-07-27T04:24:24.236Z"
   },
   {
    "duration": 1242,
    "start_time": "2021-07-27T04:24:50.336Z"
   },
   {
    "duration": 16939,
    "start_time": "2021-07-27T04:25:35.153Z"
   },
   {
    "duration": 5723,
    "start_time": "2021-07-27T04:26:26.938Z"
   },
   {
    "duration": 724,
    "start_time": "2021-07-27T04:26:33.333Z"
   },
   {
    "duration": 32,
    "start_time": "2021-07-27T04:26:34.434Z"
   },
   {
    "duration": 31,
    "start_time": "2021-07-27T04:26:35.591Z"
   },
   {
    "duration": 4,
    "start_time": "2021-07-27T04:26:36.331Z"
   },
   {
    "duration": 1903,
    "start_time": "2021-07-27T04:26:59.530Z"
   },
   {
    "duration": 2128,
    "start_time": "2021-07-27T04:27:05.430Z"
   },
   {
    "duration": 1677,
    "start_time": "2021-07-27T04:27:25.378Z"
   },
   {
    "duration": 3225,
    "start_time": "2021-07-27T04:27:37.301Z"
   },
   {
    "duration": 5,
    "start_time": "2021-07-27T04:27:41.205Z"
   },
   {
    "duration": 1212,
    "start_time": "2021-07-27T04:27:42.543Z"
   },
   {
    "duration": 5,
    "start_time": "2021-07-27T04:27:44.330Z"
   },
   {
    "duration": 20560,
    "start_time": "2021-07-27T04:27:48.728Z"
   },
   {
    "duration": 433,
    "start_time": "2021-07-27T04:28:19.872Z"
   },
   {
    "duration": 14,
    "start_time": "2021-07-27T04:28:46.567Z"
   },
   {
    "duration": 13,
    "start_time": "2021-07-27T04:29:05.504Z"
   },
   {
    "duration": 4,
    "start_time": "2021-07-27T04:32:36.581Z"
   },
   {
    "duration": 744,
    "start_time": "2021-07-27T04:32:38.853Z"
   },
   {
    "duration": 31,
    "start_time": "2021-07-27T04:32:39.601Z"
   },
   {
    "duration": 26,
    "start_time": "2021-07-27T04:32:40.012Z"
   },
   {
    "duration": 3,
    "start_time": "2021-07-27T04:32:40.726Z"
   },
   {
    "duration": 213,
    "start_time": "2021-07-27T04:33:28.098Z"
   },
   {
    "duration": 3674,
    "start_time": "2021-07-27T04:33:34.757Z"
   },
   {
    "duration": 4,
    "start_time": "2021-07-27T04:33:39.487Z"
   },
   {
    "duration": 398,
    "start_time": "2021-07-27T04:33:40.617Z"
   },
   {
    "duration": 22,
    "start_time": "2021-07-27T04:33:42.362Z"
   },
   {
    "duration": 6519,
    "start_time": "2021-07-27T04:33:44.198Z"
   },
   {
    "duration": 1219,
    "start_time": "2021-07-27T04:33:53.818Z"
   },
   {
    "duration": 103,
    "start_time": "2021-07-27T04:38:17.719Z"
   },
   {
    "duration": 4947,
    "start_time": "2021-07-27T04:38:20.274Z"
   },
   {
    "duration": 16502,
    "start_time": "2021-07-27T04:38:41.240Z"
   },
   {
    "duration": 5701,
    "start_time": "2021-07-27T04:43:04.728Z"
   },
   {
    "duration": 775,
    "start_time": "2021-07-27T04:43:10.432Z"
   },
   {
    "duration": 31,
    "start_time": "2021-07-27T04:43:11.210Z"
   },
   {
    "duration": 53,
    "start_time": "2021-07-27T04:43:11.244Z"
   },
   {
    "duration": 3,
    "start_time": "2021-07-27T04:43:11.300Z"
   },
   {
    "duration": 243,
    "start_time": "2021-07-27T04:43:11.305Z"
   },
   {
    "duration": 3590,
    "start_time": "2021-07-27T04:43:11.550Z"
   },
   {
    "duration": 4,
    "start_time": "2021-07-27T04:43:15.143Z"
   },
   {
    "duration": 434,
    "start_time": "2021-07-27T04:43:15.150Z"
   },
   {
    "duration": 25,
    "start_time": "2021-07-27T04:43:15.587Z"
   },
   {
    "duration": 107,
    "start_time": "2021-07-27T04:43:15.614Z"
   },
   {
    "duration": 131,
    "start_time": "2021-07-27T04:43:29.981Z"
   },
   {
    "duration": 12937,
    "start_time": "2021-07-27T04:43:33.764Z"
   },
   {
    "duration": 5182,
    "start_time": "2021-07-27T04:44:09.803Z"
   },
   {
    "duration": 12037,
    "start_time": "2021-07-27T04:45:29.017Z"
   },
   {
    "duration": 389,
    "start_time": "2021-07-27T04:46:25.284Z"
   },
   {
    "duration": 11906,
    "start_time": "2021-07-27T04:46:31.796Z"
   },
   {
    "duration": 14,
    "start_time": "2021-07-27T04:48:33.090Z"
   },
   {
    "duration": 8883,
    "start_time": "2021-07-27T04:49:11.469Z"
   },
   {
    "duration": 3086,
    "start_time": "2021-07-27T04:51:48.451Z"
   },
   {
    "duration": 46768,
    "start_time": "2021-07-27T04:52:33.663Z"
   },
   {
    "duration": 5919,
    "start_time": "2021-07-27T04:53:52.465Z"
   },
   {
    "duration": 5,
    "start_time": "2021-07-27T04:54:03.672Z"
   },
   {
    "duration": 804,
    "start_time": "2021-07-27T04:54:04.526Z"
   },
   {
    "duration": 33,
    "start_time": "2021-07-27T04:54:05.335Z"
   },
   {
    "duration": 28,
    "start_time": "2021-07-27T04:54:06.243Z"
   },
   {
    "duration": 4,
    "start_time": "2021-07-27T04:54:06.793Z"
   },
   {
    "duration": 215,
    "start_time": "2021-07-27T04:54:07.325Z"
   },
   {
    "duration": 3674,
    "start_time": "2021-07-27T04:54:07.921Z"
   },
   {
    "duration": 4,
    "start_time": "2021-07-27T04:54:11.598Z"
   },
   {
    "duration": 424,
    "start_time": "2021-07-27T04:54:11.605Z"
   },
   {
    "duration": 23,
    "start_time": "2021-07-27T04:54:12.032Z"
   },
   {
    "duration": 109,
    "start_time": "2021-07-27T04:54:12.058Z"
   },
   {
    "duration": 3403,
    "start_time": "2021-07-27T04:54:12.528Z"
   },
   {
    "duration": 5812,
    "start_time": "2021-07-27T04:56:16.716Z"
   },
   {
    "duration": 780,
    "start_time": "2021-07-27T04:56:24.467Z"
   },
   {
    "duration": 34,
    "start_time": "2021-07-27T04:56:25.591Z"
   },
   {
    "duration": 33,
    "start_time": "2021-07-27T04:56:26.278Z"
   },
   {
    "duration": 3,
    "start_time": "2021-07-27T04:56:26.908Z"
   },
   {
    "duration": 192,
    "start_time": "2021-07-27T04:56:27.389Z"
   },
   {
    "duration": 3636,
    "start_time": "2021-07-27T04:56:27.921Z"
   },
   {
    "duration": 5,
    "start_time": "2021-07-27T04:56:31.560Z"
   },
   {
    "duration": 454,
    "start_time": "2021-07-27T04:56:31.585Z"
   },
   {
    "duration": 26,
    "start_time": "2021-07-27T04:56:32.041Z"
   },
   {
    "duration": 105,
    "start_time": "2021-07-27T04:56:32.069Z"
   },
   {
    "duration": 18189,
    "start_time": "2021-07-27T04:56:33.396Z"
   },
   {
    "duration": 1654,
    "start_time": "2021-07-27T04:57:34.156Z"
   },
   {
    "duration": 13,
    "start_time": "2021-07-27T05:16:41.227Z"
   },
   {
    "duration": 5,
    "start_time": "2021-07-27T05:16:58.874Z"
   },
   {
    "duration": 435,
    "start_time": "2021-07-27T05:17:02.610Z"
   },
   {
    "duration": 357,
    "start_time": "2021-07-27T05:17:05.873Z"
   },
   {
    "duration": 1308,
    "start_time": "2021-07-27T05:18:32.432Z"
   },
   {
    "duration": 141,
    "start_time": "2021-07-27T05:18:42.493Z"
   },
   {
    "duration": 3584,
    "start_time": "2021-07-27T05:18:45.681Z"
   },
   {
    "duration": 6,
    "start_time": "2021-07-27T05:18:50.252Z"
   },
   {
    "duration": 397,
    "start_time": "2021-07-27T05:18:50.919Z"
   },
   {
    "duration": 22,
    "start_time": "2021-07-27T05:18:51.409Z"
   },
   {
    "duration": 1231,
    "start_time": "2021-07-27T05:18:56.591Z"
   },
   {
    "duration": 6,
    "start_time": "2021-07-27T05:19:29.935Z"
   },
   {
    "duration": 5,
    "start_time": "2021-07-27T05:20:00.740Z"
   },
   {
    "duration": 82,
    "start_time": "2021-07-27T05:21:02.817Z"
   },
   {
    "duration": 7,
    "start_time": "2021-07-27T05:21:05.661Z"
   },
   {
    "duration": 4005,
    "start_time": "2021-07-27T05:21:19.595Z"
   },
   {
    "duration": 1637,
    "start_time": "2021-07-27T05:21:40.936Z"
   },
   {
    "duration": 5,
    "start_time": "2021-07-27T05:22:28.307Z"
   },
   {
    "duration": 380,
    "start_time": "2021-07-27T05:22:49.800Z"
   },
   {
    "duration": 6,
    "start_time": "2021-07-27T05:22:54.711Z"
   },
   {
    "duration": 1305,
    "start_time": "2021-07-27T05:22:57.067Z"
   },
   {
    "duration": 367,
    "start_time": "2021-07-27T05:23:33.707Z"
   },
   {
    "duration": 6115,
    "start_time": "2021-07-27T05:23:38.170Z"
   },
   {
    "duration": 748,
    "start_time": "2021-07-27T05:23:44.288Z"
   },
   {
    "duration": 34,
    "start_time": "2021-07-27T05:23:47.607Z"
   },
   {
    "duration": 3812,
    "start_time": "2021-07-27T05:23:55.110Z"
   },
   {
    "duration": 422,
    "start_time": "2021-07-27T05:24:04.506Z"
   },
   {
    "duration": 26,
    "start_time": "2021-07-27T05:24:07.830Z"
   },
   {
    "duration": 83,
    "start_time": "2021-07-27T05:24:14.546Z"
   },
   {
    "duration": 18175,
    "start_time": "2021-07-27T05:24:17.701Z"
   },
   {
    "duration": 5474,
    "start_time": "2021-07-27T05:25:12.627Z"
   },
   {
    "duration": 757,
    "start_time": "2021-07-27T05:25:20.384Z"
   },
   {
    "duration": 47,
    "start_time": "2021-07-27T05:25:22.744Z"
   },
   {
    "duration": 1162,
    "start_time": "2021-07-27T05:25:23.891Z"
   },
   {
    "duration": 4515,
    "start_time": "2021-07-27T05:25:30.675Z"
   },
   {
    "duration": 466,
    "start_time": "2021-07-27T05:25:40.503Z"
   },
   {
    "duration": 80,
    "start_time": "2021-07-27T05:25:42.498Z"
   },
   {
    "duration": 4562,
    "start_time": "2021-07-27T05:26:35.640Z"
   },
   {
    "duration": 1642,
    "start_time": "2021-07-27T05:26:56.137Z"
   },
   {
    "duration": 186,
    "start_time": "2021-07-27T05:29:02.231Z"
   },
   {
    "duration": 115,
    "start_time": "2021-07-27T05:30:04.243Z"
   },
   {
    "duration": 727,
    "start_time": "2021-07-27T05:30:18.009Z"
   },
   {
    "duration": 43,
    "start_time": "2021-07-27T05:30:25.447Z"
   },
   {
    "duration": 202,
    "start_time": "2021-07-27T05:30:28.097Z"
   },
   {
    "duration": 21,
    "start_time": "2021-07-27T05:30:44.631Z"
   },
   {
    "duration": 215,
    "start_time": "2021-07-27T05:30:51.367Z"
   },
   {
    "duration": 371,
    "start_time": "2021-07-27T05:33:49.361Z"
   },
   {
    "duration": 9,
    "start_time": "2021-07-27T05:33:57.085Z"
   },
   {
    "duration": 718,
    "start_time": "2021-07-27T05:34:39.424Z"
   },
   {
    "duration": 41,
    "start_time": "2021-07-27T05:34:47.556Z"
   },
   {
    "duration": 1509,
    "start_time": "2021-07-27T05:35:49.288Z"
   },
   {
    "duration": 114,
    "start_time": "2021-07-27T05:35:51.918Z"
   },
   {
    "duration": 761,
    "start_time": "2021-07-27T05:35:53.786Z"
   },
   {
    "duration": 499,
    "start_time": "2021-07-27T05:35:55.765Z"
   },
   {
    "duration": 5,
    "start_time": "2021-07-27T05:36:09.985Z"
   },
   {
    "duration": 44,
    "start_time": "2021-07-27T05:36:13.324Z"
   },
   {
    "duration": 1549,
    "start_time": "2021-07-27T05:36:30.054Z"
   },
   {
    "duration": 741,
    "start_time": "2021-07-27T05:36:54.006Z"
   },
   {
    "duration": 38,
    "start_time": "2021-07-27T05:37:07.696Z"
   },
   {
    "duration": 10,
    "start_time": "2021-07-27T05:37:14.892Z"
   },
   {
    "duration": 143,
    "start_time": "2021-07-27T05:37:20.092Z"
   },
   {
    "duration": 137,
    "start_time": "2021-07-27T05:37:23.604Z"
   },
   {
    "duration": 469,
    "start_time": "2021-07-27T05:37:25.553Z"
   },
   {
    "duration": 147,
    "start_time": "2021-07-27T05:38:10.074Z"
   },
   {
    "duration": 1379,
    "start_time": "2021-07-27T05:38:14.983Z"
   },
   {
    "duration": 4463,
    "start_time": "2021-07-27T05:38:34.093Z"
   },
   {
    "duration": 16,
    "start_time": "2021-07-27T05:38:42.887Z"
   },
   {
    "duration": 1341,
    "start_time": "2021-07-27T05:38:47.949Z"
   },
   {
    "duration": 4,
    "start_time": "2021-07-27T05:39:05.790Z"
   },
   {
    "duration": 5,
    "start_time": "2021-07-27T05:39:31.410Z"
   },
   {
    "duration": 359,
    "start_time": "2021-07-27T05:39:48.100Z"
   },
   {
    "duration": 6,
    "start_time": "2021-07-27T05:40:50.584Z"
   },
   {
    "duration": 7,
    "start_time": "2021-07-27T05:40:58.226Z"
   },
   {
    "duration": 377,
    "start_time": "2021-07-27T05:41:02.500Z"
   },
   {
    "duration": 6,
    "start_time": "2021-07-27T05:41:09.764Z"
   },
   {
    "duration": 20,
    "start_time": "2021-07-27T05:41:27.734Z"
   },
   {
    "duration": 764,
    "start_time": "2021-07-27T05:41:33.698Z"
   },
   {
    "duration": 1410,
    "start_time": "2021-07-27T05:41:35.274Z"
   },
   {
    "duration": 1611,
    "start_time": "2021-07-27T05:41:41.374Z"
   },
   {
    "duration": 664,
    "start_time": "2021-07-27T05:41:44.186Z"
   },
   {
    "duration": 4,
    "start_time": "2021-07-27T05:41:51.695Z"
   },
   {
    "duration": 7,
    "start_time": "2021-07-27T05:41:52.620Z"
   },
   {
    "duration": 764,
    "start_time": "2021-07-27T05:41:53.899Z"
   },
   {
    "duration": 35,
    "start_time": "2021-07-27T05:41:54.668Z"
   },
   {
    "duration": 149,
    "start_time": "2021-07-27T05:42:14.560Z"
   },
   {
    "duration": 22,
    "start_time": "2021-07-27T05:42:16.679Z"
   },
   {
    "duration": 793,
    "start_time": "2021-07-27T05:42:26.292Z"
   },
   {
    "duration": 1607,
    "start_time": "2021-07-27T05:42:30.778Z"
   },
   {
    "duration": 409,
    "start_time": "2021-07-27T05:42:40.692Z"
   },
   {
    "duration": 4248,
    "start_time": "2021-07-27T05:56:19.530Z"
   },
   {
    "duration": 780,
    "start_time": "2021-07-27T05:56:26.212Z"
   },
   {
    "duration": 28,
    "start_time": "2021-07-27T05:56:31.147Z"
   },
   {
    "duration": 1150,
    "start_time": "2021-07-27T05:56:46.486Z"
   },
   {
    "duration": 1199,
    "start_time": "2021-07-27T05:56:56.432Z"
   },
   {
    "duration": 3926,
    "start_time": "2021-07-27T05:57:10.544Z"
   },
   {
    "duration": 508,
    "start_time": "2021-07-27T05:57:20.554Z"
   },
   {
    "duration": 4,
    "start_time": "2021-07-27T06:06:13.709Z"
   },
   {
    "duration": 741,
    "start_time": "2021-07-27T06:06:14.703Z"
   },
   {
    "duration": 27,
    "start_time": "2021-07-27T06:06:16.994Z"
   },
   {
    "duration": 6,
    "start_time": "2021-07-27T06:07:26.686Z"
   },
   {
    "duration": 768,
    "start_time": "2021-07-27T06:07:27.733Z"
   },
   {
    "duration": 27,
    "start_time": "2021-07-27T06:07:29.051Z"
   },
   {
    "duration": 332,
    "start_time": "2021-07-27T06:07:29.877Z"
   },
   {
    "duration": 4018,
    "start_time": "2021-07-27T06:07:30.829Z"
   },
   {
    "duration": 450,
    "start_time": "2021-07-27T06:07:41.048Z"
   },
   {
    "duration": 115,
    "start_time": "2021-07-27T06:07:42.926Z"
   },
   {
    "duration": 3636,
    "start_time": "2021-07-27T06:07:44.226Z"
   },
   {
    "duration": 3622,
    "start_time": "2021-07-27T06:07:57.099Z"
   },
   {
    "duration": 3457,
    "start_time": "2021-07-27T06:08:40.993Z"
   },
   {
    "duration": 8,
    "start_time": "2021-07-27T06:08:57.589Z"
   },
   {
    "duration": 118282,
    "start_time": "2021-07-27T06:17:36.069Z"
   },
   {
    "duration": 124507,
    "start_time": "2021-07-27T06:21:01.171Z"
   },
   {
    "duration": 4027,
    "start_time": "2021-07-27T06:23:15.380Z"
   },
   {
    "duration": 6782,
    "start_time": "2021-07-27T06:24:08.643Z"
   },
   {
    "duration": 769,
    "start_time": "2021-07-27T06:24:16.731Z"
   },
   {
    "duration": 34,
    "start_time": "2021-07-27T06:24:18.322Z"
   },
   {
    "duration": 1143,
    "start_time": "2021-07-27T06:24:19.197Z"
   },
   {
    "duration": 188,
    "start_time": "2021-07-27T06:24:20.154Z"
   },
   {
    "duration": 384,
    "start_time": "2021-07-27T06:24:44.007Z"
   },
   {
    "duration": 3062,
    "start_time": "2021-07-27T06:24:52.435Z"
   },
   {
    "duration": 577,
    "start_time": "2021-07-27T06:25:06.294Z"
   },
   {
    "duration": 230,
    "start_time": "2021-07-27T06:26:16.440Z"
   },
   {
    "duration": 3891,
    "start_time": "2021-07-27T06:26:20.194Z"
   },
   {
    "duration": 124,
    "start_time": "2021-07-27T06:26:25.456Z"
   },
   {
    "duration": 150,
    "start_time": "2021-07-27T06:26:26.424Z"
   },
   {
    "duration": 165368,
    "start_time": "2021-07-27T06:26:27.311Z"
   },
   {
    "duration": 6509,
    "start_time": "2021-07-27T06:30:10.758Z"
   },
   {
    "duration": 769,
    "start_time": "2021-07-27T06:30:17.270Z"
   },
   {
    "duration": 43,
    "start_time": "2021-07-27T06:30:18.043Z"
   },
   {
    "duration": 209,
    "start_time": "2021-07-27T06:30:18.089Z"
   },
   {
    "duration": 3918,
    "start_time": "2021-07-27T06:30:18.301Z"
   },
   {
    "duration": 136,
    "start_time": "2021-07-27T06:30:22.222Z"
   },
   {
    "duration": 119,
    "start_time": "2021-07-27T06:30:22.360Z"
   },
   {
    "duration": 164504,
    "start_time": "2021-07-27T06:30:22.482Z"
   },
   {
    "duration": 500,
    "start_time": "2021-07-27T06:33:27.144Z"
   },
   {
    "duration": 398,
    "start_time": "2021-07-27T06:35:58.254Z"
   },
   {
    "duration": 6632,
    "start_time": "2021-07-27T06:36:01.658Z"
   },
   {
    "duration": 789,
    "start_time": "2021-07-27T06:36:08.293Z"
   },
   {
    "duration": 51,
    "start_time": "2021-07-27T06:36:09.086Z"
   },
   {
    "duration": 228,
    "start_time": "2021-07-27T06:36:09.139Z"
   },
   {
    "duration": 1889,
    "start_time": "2021-07-27T06:36:09.370Z"
   },
   {
    "duration": 78,
    "start_time": "2021-07-27T06:36:11.262Z"
   },
   {
    "duration": 247,
    "start_time": "2021-07-27T06:36:13.061Z"
   },
   {
    "duration": 157181,
    "start_time": "2021-07-27T06:36:13.596Z"
   },
   {
    "duration": 6516,
    "start_time": "2021-07-27T06:40:18.057Z"
   },
   {
    "duration": 767,
    "start_time": "2021-07-27T06:40:24.576Z"
   },
   {
    "duration": 42,
    "start_time": "2021-07-27T06:40:25.346Z"
   },
   {
    "duration": 196,
    "start_time": "2021-07-27T06:40:25.391Z"
   },
   {
    "duration": 1794,
    "start_time": "2021-07-27T06:40:25.590Z"
   },
   {
    "duration": 66,
    "start_time": "2021-07-27T06:40:27.387Z"
   },
   {
    "duration": 154,
    "start_time": "2021-07-27T06:40:27.456Z"
   },
   {
    "duration": 161987,
    "start_time": "2021-07-27T06:40:27.612Z"
   },
   {
    "duration": 3648,
    "start_time": "2021-09-09T00:31:17.495Z"
   },
   {
    "duration": 91,
    "start_time": "2021-09-09T00:46:30.512Z"
   },
   {
    "duration": 15,
    "start_time": "2021-09-09T00:46:34.709Z"
   },
   {
    "duration": 6342,
    "start_time": "2021-09-09T22:59:10.440Z"
   },
   {
    "duration": 380,
    "start_time": "2021-09-09T22:59:35.689Z"
   },
   {
    "duration": 5349,
    "start_time": "2021-09-09T22:59:51.145Z"
   },
   {
    "duration": 4,
    "start_time": "2021-09-09T23:00:09.517Z"
   },
   {
    "duration": 28,
    "start_time": "2021-09-09T23:00:12.615Z"
   },
   {
    "duration": 360,
    "start_time": "2021-09-09T23:00:19.167Z"
   },
   {
    "duration": 303,
    "start_time": "2021-09-09T23:00:36.649Z"
   },
   {
    "duration": 391,
    "start_time": "2021-09-09T23:00:44.434Z"
   },
   {
    "duration": 36,
    "start_time": "2021-09-09T23:00:55.875Z"
   },
   {
    "duration": 656,
    "start_time": "2021-09-09T23:01:06.233Z"
   },
   {
    "duration": 11,
    "start_time": "2021-09-09T23:01:18.661Z"
   },
   {
    "duration": 12,
    "start_time": "2021-09-09T23:01:26.691Z"
   },
   {
    "duration": 731,
    "start_time": "2021-09-09T23:01:56.508Z"
   },
   {
    "duration": 15,
    "start_time": "2021-09-09T23:01:57.982Z"
   },
   {
    "duration": 13,
    "start_time": "2021-09-09T23:02:08.201Z"
   },
   {
    "duration": 44,
    "start_time": "2021-09-09T23:02:21.616Z"
   },
   {
    "duration": 34,
    "start_time": "2021-09-10T01:13:37.827Z"
   },
   {
    "duration": 4,
    "start_time": "2021-09-10T01:18:12.385Z"
   },
   {
    "duration": 4,
    "start_time": "2021-09-10T01:18:32.347Z"
   },
   {
    "duration": 5,
    "start_time": "2021-09-10T01:18:49.134Z"
   },
   {
    "duration": 674,
    "start_time": "2021-09-10T01:18:51.580Z"
   },
   {
    "duration": 4,
    "start_time": "2021-09-10T01:19:02.502Z"
   },
   {
    "duration": 4,
    "start_time": "2021-09-10T01:19:09.796Z"
   },
   {
    "duration": 5,
    "start_time": "2021-09-10T01:19:10.624Z"
   },
   {
    "duration": 6,
    "start_time": "2021-09-10T01:19:11.634Z"
   },
   {
    "duration": 183,
    "start_time": "2021-09-10T01:23:00.832Z"
   },
   {
    "duration": 4,
    "start_time": "2021-09-10T01:23:13.255Z"
   },
   {
    "duration": 5,
    "start_time": "2021-09-10T01:23:14.343Z"
   },
   {
    "duration": 6,
    "start_time": "2021-09-10T01:23:14.984Z"
   },
   {
    "duration": 660,
    "start_time": "2021-09-10T01:23:15.851Z"
   },
   {
    "duration": 4,
    "start_time": "2021-09-10T01:23:35.087Z"
   },
   {
    "duration": 4,
    "start_time": "2021-09-10T01:23:39.462Z"
   },
   {
    "duration": 5,
    "start_time": "2021-09-10T01:23:40.202Z"
   },
   {
    "duration": 2102,
    "start_time": "2021-09-10T01:23:41.189Z"
   },
   {
    "duration": 4,
    "start_time": "2021-09-10T01:23:48.329Z"
   },
   {
    "duration": 126195,
    "start_time": "2021-09-10T01:23:51.063Z"
   },
   {
    "duration": 46,
    "start_time": "2021-09-10T01:26:17.226Z"
   },
   {
    "duration": 368,
    "start_time": "2021-09-10T01:26:43.513Z"
   },
   {
    "duration": 4,
    "start_time": "2021-09-10T01:26:49.732Z"
   },
   {
    "duration": 10,
    "start_time": "2021-09-10T01:28:40.884Z"
   },
   {
    "duration": 5,
    "start_time": "2021-09-10T01:28:41.625Z"
   },
   {
    "duration": 35,
    "start_time": "2021-09-10T01:28:42.336Z"
   },
   {
    "duration": 6,
    "start_time": "2021-09-10T01:29:19.046Z"
   },
   {
    "duration": 710,
    "start_time": "2021-09-10T01:29:23.878Z"
   },
   {
    "duration": 4,
    "start_time": "2021-09-10T01:30:42.686Z"
   },
   {
    "duration": 6,
    "start_time": "2021-09-10T01:30:46.977Z"
   },
   {
    "duration": 87,
    "start_time": "2021-09-10T01:30:47.514Z"
   },
   {
    "duration": 332,
    "start_time": "2021-09-10T01:31:06.230Z"
   },
   {
    "duration": 5,
    "start_time": "2021-09-10T01:32:06.712Z"
   },
   {
    "duration": 19,
    "start_time": "2021-09-10T01:32:12.161Z"
   },
   {
    "duration": 24724,
    "start_time": "2021-09-10T01:32:13.238Z"
   },
   {
    "duration": 4,
    "start_time": "2021-09-10T01:33:18.976Z"
   },
   {
    "duration": 5,
    "start_time": "2021-09-10T01:33:21.619Z"
   },
   {
    "duration": 6,
    "start_time": "2021-09-10T01:33:31.169Z"
   },
   {
    "duration": 6,
    "start_time": "2021-09-10T01:33:39.759Z"
   },
   {
    "duration": 8,
    "start_time": "2021-09-10T01:34:02.945Z"
   },
   {
    "duration": 2486,
    "start_time": "2021-09-10T01:34:24.402Z"
   },
   {
    "duration": 5,
    "start_time": "2021-09-10T01:35:04.962Z"
   },
   {
    "duration": 1904864,
    "start_time": "2021-09-10T01:35:09.606Z"
   },
   {
    "duration": 687,
    "start_time": "2021-09-10T02:10:15.219Z"
   },
   {
    "duration": 6,
    "start_time": "2021-09-10T02:10:54.040Z"
   },
   {
    "duration": 1060,
    "start_time": "2021-09-10T02:10:59.037Z"
   },
   {
    "duration": 107,
    "start_time": "2021-09-10T02:11:18.291Z"
   },
   {
    "duration": 1410,
    "start_time": "2021-09-10T02:11:23.707Z"
   },
   {
    "duration": 45,
    "start_time": "2021-09-10T02:11:40.906Z"
   },
   {
    "duration": 890,
    "start_time": "2021-09-10T02:11:46.390Z"
   },
   {
    "duration": 253,
    "start_time": "2021-09-10T02:12:30.639Z"
   },
   {
    "duration": 1209,
    "start_time": "2021-09-10T02:13:00.181Z"
   },
   {
    "duration": 588383,
    "start_time": "2021-09-10T02:13:09.435Z"
   },
   {
    "duration": 1374,
    "start_time": "2021-09-10T02:22:57.821Z"
   },
   {
    "duration": 7593873,
    "start_time": "2021-09-10T02:22:59.199Z"
   },
   {
    "duration": 4412,
    "start_time": "2021-09-10T04:29:33.075Z"
   },
   {
    "duration": 2198,
    "start_time": "2021-09-10T08:01:07.583Z"
   },
   {
    "duration": 706,
    "start_time": "2021-09-10T08:01:09.784Z"
   },
   {
    "duration": 17,
    "start_time": "2021-09-10T08:01:10.494Z"
   },
   {
    "duration": 48,
    "start_time": "2021-09-10T08:01:10.514Z"
   },
   {
    "duration": 13,
    "start_time": "2021-09-10T08:01:10.564Z"
   },
   {
    "duration": 46,
    "start_time": "2021-09-10T08:01:10.580Z"
   },
   {
    "duration": 34,
    "start_time": "2021-09-10T08:01:10.629Z"
   },
   {
    "duration": 4,
    "start_time": "2021-09-10T08:01:10.667Z"
   },
   {
    "duration": 10,
    "start_time": "2021-09-10T08:01:10.675Z"
   },
   {
    "duration": 10,
    "start_time": "2021-09-10T08:01:10.688Z"
   },
   {
    "duration": 5,
    "start_time": "2021-09-10T08:01:10.701Z"
   },
   {
    "duration": 12,
    "start_time": "2021-09-10T08:01:10.708Z"
   },
   {
    "duration": 16,
    "start_time": "2021-09-10T08:01:10.722Z"
   },
   {
    "duration": 1910,
    "start_time": "2021-09-10T08:01:10.763Z"
   },
   {
    "duration": 4,
    "start_time": "2021-09-10T08:01:12.675Z"
   },
   {
    "duration": 125410,
    "start_time": "2021-09-10T08:01:12.682Z"
   },
   {
    "duration": 37,
    "start_time": "2021-09-10T08:03:18.094Z"
   },
   {
    "duration": 10,
    "start_time": "2021-09-10T08:03:18.133Z"
   },
   {
    "duration": 18,
    "start_time": "2021-09-10T08:03:18.146Z"
   },
   {
    "duration": 8,
    "start_time": "2021-09-10T08:03:18.166Z"
   },
   {
    "duration": 45,
    "start_time": "2021-09-10T08:03:18.176Z"
   },
   {
    "duration": 8,
    "start_time": "2021-09-10T08:03:18.225Z"
   },
   {
    "duration": 103,
    "start_time": "2021-09-10T08:03:18.267Z"
   },
   {
    "duration": 4,
    "start_time": "2021-09-10T08:03:18.373Z"
   },
   {
    "duration": 24710,
    "start_time": "2021-09-10T08:03:18.379Z"
   },
   {
    "duration": 4,
    "start_time": "2021-09-10T08:03:43.091Z"
   },
   {
    "duration": 7,
    "start_time": "2021-09-10T08:03:43.097Z"
   },
   {
    "duration": 10,
    "start_time": "2021-09-10T08:03:43.106Z"
   },
   {
    "duration": 12,
    "start_time": "2021-09-10T08:03:43.118Z"
   },
   {
    "duration": 13,
    "start_time": "2021-09-10T08:03:43.132Z"
   },
   {
    "duration": 10,
    "start_time": "2021-09-10T09:10:12.028Z"
   },
   {
    "duration": 2794,
    "start_time": "2021-09-10T09:10:24.409Z"
   },
   {
    "duration": 811,
    "start_time": "2021-09-10T09:10:27.206Z"
   },
   {
    "duration": 16,
    "start_time": "2021-09-10T09:10:28.020Z"
   },
   {
    "duration": 49,
    "start_time": "2021-09-10T09:10:28.039Z"
   },
   {
    "duration": 12,
    "start_time": "2021-09-10T09:10:28.091Z"
   },
   {
    "duration": 69,
    "start_time": "2021-09-10T09:10:28.105Z"
   },
   {
    "duration": 4,
    "start_time": "2021-09-10T09:10:28.176Z"
   },
   {
    "duration": 8,
    "start_time": "2021-09-10T09:10:28.183Z"
   },
   {
    "duration": 12,
    "start_time": "2021-09-10T09:10:28.194Z"
   },
   {
    "duration": 9,
    "start_time": "2021-09-10T09:10:28.209Z"
   },
   {
    "duration": 8,
    "start_time": "2021-09-10T09:10:28.221Z"
   },
   {
    "duration": 10,
    "start_time": "2021-09-10T09:10:28.231Z"
   },
   {
    "duration": 5,
    "start_time": "2021-09-10T09:10:28.262Z"
   },
   {
    "duration": 1995,
    "start_time": "2021-09-10T09:10:28.269Z"
   },
   {
    "duration": 3,
    "start_time": "2021-09-10T09:10:30.266Z"
   },
   {
    "duration": 126542,
    "start_time": "2021-09-10T09:10:30.272Z"
   },
   {
    "duration": 35,
    "start_time": "2021-09-10T09:12:36.816Z"
   },
   {
    "duration": 16,
    "start_time": "2021-09-10T09:12:36.853Z"
   },
   {
    "duration": 9,
    "start_time": "2021-09-10T09:12:36.871Z"
   },
   {
    "duration": 9,
    "start_time": "2021-09-10T09:12:36.882Z"
   },
   {
    "duration": 40,
    "start_time": "2021-09-10T09:12:36.893Z"
   },
   {
    "duration": 26,
    "start_time": "2021-09-10T09:12:36.936Z"
   },
   {
    "duration": 105,
    "start_time": "2021-09-10T09:12:36.967Z"
   },
   {
    "duration": 4,
    "start_time": "2021-09-10T09:12:37.075Z"
   },
   {
    "duration": 25090,
    "start_time": "2021-09-10T09:12:37.081Z"
   },
   {
    "duration": 3,
    "start_time": "2021-09-10T09:13:02.174Z"
   },
   {
    "duration": 14,
    "start_time": "2021-09-10T09:13:02.179Z"
   },
   {
    "duration": 9,
    "start_time": "2021-09-10T09:13:02.195Z"
   },
   {
    "duration": 23,
    "start_time": "2021-09-10T09:13:02.206Z"
   },
   {
    "duration": 12,
    "start_time": "2021-09-10T09:13:02.231Z"
   }
  ],
  "kernelspec": {
   "display_name": "Python 3",
   "language": "python",
   "name": "python3"
  },
  "language_info": {
   "codemirror_mode": {
    "name": "ipython",
    "version": 3
   },
   "file_extension": ".py",
   "mimetype": "text/x-python",
   "name": "python",
   "nbconvert_exporter": "python",
   "pygments_lexer": "ipython3",
   "version": "3.7.9"
  },
  "toc": {
   "base_numbering": 1,
   "nav_menu": {},
   "number_sections": true,
   "sideBar": true,
   "skip_h1_title": true,
   "title_cell": "Содержание",
   "title_sidebar": "Contents",
   "toc_cell": true,
   "toc_position": {
    "height": "calc(100% - 180px)",
    "left": "10px",
    "top": "150px",
    "width": "302.391px"
   },
   "toc_section_display": true,
   "toc_window_display": false
  }
 },
 "nbformat": 4,
 "nbformat_minor": 2
}
